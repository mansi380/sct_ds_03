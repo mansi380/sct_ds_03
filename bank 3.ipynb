{
 "cells": [
  {
   "cell_type": "code",
   "execution_count": 1,
   "id": "f733d11e",
   "metadata": {},
   "outputs": [],
   "source": [
    "import numpy as np \n",
    "import pandas as pd \n",
    "import matplotlib.pyplot as plt\n",
    "%matplotlib inline\n",
    "import seaborn as sns"
   ]
  },
  {
   "cell_type": "code",
   "execution_count": 3,
   "id": "7a5c0830",
   "metadata": {},
   "outputs": [],
   "source": [
    "df = pd.read_csv('C:\\\\Users\\\\admin\\\\Desktop\\\\mansee\\\\bank.csv')\n"
   ]
  },
  {
   "cell_type": "code",
   "execution_count": 4,
   "id": "b1c32768",
   "metadata": {},
   "outputs": [
    {
     "name": "stdout",
     "output_type": "stream",
     "text": [
      "<class 'pandas.core.frame.DataFrame'>\n",
      "RangeIndex: 11162 entries, 0 to 11161\n",
      "Data columns (total 17 columns):\n",
      " #   Column     Non-Null Count  Dtype \n",
      "---  ------     --------------  ----- \n",
      " 0   age        11162 non-null  int64 \n",
      " 1   job        11162 non-null  object\n",
      " 2   marital    11162 non-null  object\n",
      " 3   education  11162 non-null  object\n",
      " 4   default    11162 non-null  object\n",
      " 5   balance    11162 non-null  int64 \n",
      " 6   housing    11162 non-null  object\n",
      " 7   loan       11162 non-null  object\n",
      " 8   contact    11162 non-null  object\n",
      " 9   day        11162 non-null  int64 \n",
      " 10  month      11162 non-null  object\n",
      " 11  duration   11162 non-null  int64 \n",
      " 12  campaign   11162 non-null  int64 \n",
      " 13  pdays      11162 non-null  int64 \n",
      " 14  previous   11162 non-null  int64 \n",
      " 15  poutcome   11162 non-null  object\n",
      " 16  deposit    11162 non-null  object\n",
      "dtypes: int64(7), object(10)\n",
      "memory usage: 1.4+ MB\n",
      "None\n",
      "   age         job  marital  education default  balance housing loan  contact  \\\n",
      "0   59      admin.  married  secondary      no     2343     yes   no  unknown   \n",
      "1   56      admin.  married  secondary      no       45      no   no  unknown   \n",
      "2   41  technician  married  secondary      no     1270     yes   no  unknown   \n",
      "3   55    services  married  secondary      no     2476     yes   no  unknown   \n",
      "4   54      admin.  married   tertiary      no      184      no   no  unknown   \n",
      "\n",
      "   day month  duration  campaign  pdays  previous poutcome deposit  \n",
      "0    5   may      1042         1     -1         0  unknown     yes  \n",
      "1    5   may      1467         1     -1         0  unknown     yes  \n",
      "2    5   may      1389         1     -1         0  unknown     yes  \n",
      "3    5   may       579         1     -1         0  unknown     yes  \n",
      "4    5   may       673         2     -1         0  unknown     yes  \n",
      "                age       balance           day      duration      campaign  \\\n",
      "count  11162.000000  11162.000000  11162.000000  11162.000000  11162.000000   \n",
      "mean      41.231948   1528.538524     15.658036    371.993818      2.508421   \n",
      "std       11.913369   3225.413326      8.420740    347.128386      2.722077   \n",
      "min       18.000000  -6847.000000      1.000000      2.000000      1.000000   \n",
      "25%       32.000000    122.000000      8.000000    138.000000      1.000000   \n",
      "50%       39.000000    550.000000     15.000000    255.000000      2.000000   \n",
      "75%       49.000000   1708.000000     22.000000    496.000000      3.000000   \n",
      "max       95.000000  81204.000000     31.000000   3881.000000     63.000000   \n",
      "\n",
      "              pdays      previous  \n",
      "count  11162.000000  11162.000000  \n",
      "mean      51.330407      0.832557  \n",
      "std      108.758282      2.292007  \n",
      "min       -1.000000      0.000000  \n",
      "25%       -1.000000      0.000000  \n",
      "50%       -1.000000      0.000000  \n",
      "75%       20.750000      1.000000  \n",
      "max      854.000000     58.000000  \n"
     ]
    }
   ],
   "source": [
    "print(df.info())  \n",
    "print(df.head())  \n",
    "\n",
    "print(df.describe())\n"
   ]
  },
  {
   "cell_type": "code",
   "execution_count": 17,
   "id": "4e9239e3",
   "metadata": {},
   "outputs": [
    {
     "name": "stdout",
     "output_type": "stream",
     "text": [
      "Index(['age', 'job', 'marital', 'education', 'default', 'balance', 'housing',\n",
      "       'loan', 'contact', 'day', 'month', 'duration', 'campaign', 'pdays',\n",
      "       'previous', 'poutcome', 'deposit'],\n",
      "      dtype='object')\n"
     ]
    }
   ],
   "source": [
    "print(df.columns)\n",
    "\n"
   ]
  },
  {
   "cell_type": "code",
   "execution_count": 27,
   "id": "f9ff525a",
   "metadata": {},
   "outputs": [
    {
     "name": "stdout",
     "output_type": "stream",
     "text": [
      "        age   balance\n",
      "0  1.491505  0.252525\n",
      "1  1.239676 -0.459974\n",
      "2 -0.019470 -0.080160\n",
      "3  1.155733  0.293762\n",
      "4  1.071790 -0.416876\n"
     ]
    }
   ],
   "source": [
    "from sklearn.preprocessing import StandardScaler\n",
    "\n",
    "\n",
    "scaler = StandardScaler()\n",
    "\n",
    "df[['age', 'balance']] = scaler.fit_transform(df[['age', 'balance']])\n",
    "\n",
    "print(df[['age', 'balance']].head())\n"
   ]
  },
  {
   "cell_type": "code",
   "execution_count": 29,
   "id": "a3e49d5c",
   "metadata": {},
   "outputs": [
    {
     "name": "stdout",
     "output_type": "stream",
     "text": [
      "        age   balance  duration\n",
      "0  1.491505  0.252525  1.930226\n",
      "1  1.239676 -0.459974  3.154612\n",
      "2 -0.019470 -0.080160  2.929901\n",
      "3  1.155733  0.293762  0.596366\n",
      "4  1.071790 -0.416876  0.867171\n"
     ]
    }
   ],
   "source": [
    "from sklearn.preprocessing import StandardScaler\n",
    "\n",
    "\n",
    "scaler = StandardScaler()\n",
    "\n",
    "\n",
    "df[['age', 'balance', 'duration']] = scaler.fit_transform(df[['age', 'balance', 'duration']])\n",
    "\n",
    "\n",
    "print(df[['age', 'balance', 'duration']].head())\n"
   ]
  },
  {
   "cell_type": "code",
   "execution_count": 30,
   "id": "6f9c5974",
   "metadata": {},
   "outputs": [
    {
     "name": "stdout",
     "output_type": "stream",
     "text": [
      "        age   balance   housing       day  duration  campaign     pdays  \\\n",
      "0  1.491505  0.252525  1.055280 -1.265746  1.930226 -0.554168 -0.481184   \n",
      "1  1.239676 -0.459974 -0.947616 -1.265746  3.154612 -0.554168 -0.481184   \n",
      "2 -0.019470 -0.080160  1.055280 -1.265746  2.929901 -0.554168 -0.481184   \n",
      "3  1.155733  0.293762  1.055280 -1.265746  0.596366 -0.554168 -0.481184   \n",
      "4  1.071790 -0.416876 -0.947616 -1.265746  0.867171 -0.186785 -0.481184   \n",
      "\n",
      "   previous  \n",
      "0  -0.36326  \n",
      "1  -0.36326  \n",
      "2  -0.36326  \n",
      "3  -0.36326  \n",
      "4  -0.36326  \n"
     ]
    }
   ],
   "source": [
    "from sklearn.preprocessing import StandardScaler\n",
    "\n",
    "scaler = StandardScaler()\n",
    "\n",
    "\n",
    "numeric_cols = df.select_dtypes(include=['float64', 'int64']).columns\n",
    "\n",
    "\n",
    "df[numeric_cols] = scaler.fit_transform(df[numeric_cols])\n",
    "\n",
    "print(df[numeric_cols].head())\n"
   ]
  },
  {
   "cell_type": "code",
   "execution_count": 34,
   "id": "ca2783b9",
   "metadata": {},
   "outputs": [
    {
     "name": "stdout",
     "output_type": "stream",
     "text": [
      "        age         job  marital  education default   balance   housing loan  \\\n",
      "0  1.491505      admin.  married  secondary      no  0.252525  1.055280   no   \n",
      "1  1.239676      admin.  married  secondary      no -0.459974 -0.947616   no   \n",
      "2 -0.019470  technician  married  secondary      no -0.080160  1.055280   no   \n",
      "3  1.155733    services  married  secondary      no  0.293762  1.055280   no   \n",
      "4  1.071790      admin.  married   tertiary      no -0.416876 -0.947616   no   \n",
      "\n",
      "   contact       day month  duration  campaign     pdays  previous poutcome  \n",
      "0  unknown -1.265746   may  1.930226 -0.554168 -0.481184  -0.36326  unknown  \n",
      "1  unknown -1.265746   may  3.154612 -0.554168 -0.481184  -0.36326  unknown  \n",
      "2  unknown -1.265746   may  2.929901 -0.554168 -0.481184  -0.36326  unknown  \n",
      "3  unknown -1.265746   may  0.596366 -0.554168 -0.481184  -0.36326  unknown  \n",
      "4  unknown -1.265746   may  0.867171 -0.186785 -0.481184  -0.36326  unknown  \n",
      "0    yes\n",
      "1    yes\n",
      "2    yes\n",
      "3    yes\n",
      "4    yes\n",
      "Name: deposit, dtype: object\n"
     ]
    }
   ],
   "source": [
    "y = df['deposit']  \n",
    "\n",
    "X = df.drop(columns=['deposit'])  \n",
    "\n",
    "\n",
    "print(X.head())\n",
    "print(y.head())  \n"
   ]
  },
  {
   "cell_type": "code",
   "execution_count": 32,
   "id": "a120128b",
   "metadata": {},
   "outputs": [
    {
     "name": "stdout",
     "output_type": "stream",
     "text": [
      "Training features shape: (8929, 16)\n",
      "Test features shape: (2233, 16)\n",
      "Training target shape: (8929,)\n",
      "Test target shape: (2233,)\n"
     ]
    }
   ],
   "source": [
    "from sklearn.model_selection import train_test_split\n",
    "X = df.drop(columns=['deposit'])  \n",
    "y = df['deposit']  \n",
    "\n",
    "\n",
    "X_train, X_test, y_train, y_test = train_test_split(X, y, test_size=0.2, random_state=\n",
    "print(\"Training features shape:\", X_train.shape)\n",
    "print(\"Test features shape:\", X_test.shape)\n",
    "print(\"Training target shape:\", y_train.shape)\n",
    "print(\"Test target shape:\", y_test.shape)\n"
   ]
  },
  {
   "cell_type": "code",
   "execution_count": 36,
   "id": "dd1f31f0",
   "metadata": {},
   "outputs": [
    {
     "name": "stdout",
     "output_type": "stream",
     "text": [
      "Index(['age', 'balance', 'housing', 'day', 'duration', 'campaign', 'pdays',\n",
      "       'previous', 'job_blue-collar', 'job_entrepreneur', 'job_housemaid',\n",
      "       'job_management', 'job_retired', 'job_self-employed', 'job_services',\n",
      "       'job_student', 'job_technician', 'job_unemployed', 'job_unknown',\n",
      "       'marital_married', 'marital_single', 'education_secondary',\n",
      "       'education_tertiary', 'education_unknown', 'default_yes', 'loan_yes',\n",
      "       'contact_telephone', 'contact_unknown', 'month_aug', 'month_dec',\n",
      "       'month_feb', 'month_jan', 'month_jul', 'month_jun', 'month_mar',\n",
      "       'month_may', 'month_nov', 'month_oct', 'month_sep', 'poutcome_other',\n",
      "       'poutcome_success', 'poutcome_unknown', 'deposit_yes'],\n",
      "      dtype='object')\n"
     ]
    }
   ],
   "source": [
    "\n",
    "print(df_encoded.columns)\n"
   ]
  },
  {
   "cell_type": "code",
   "execution_count": 37,
   "id": "6cb34263",
   "metadata": {},
   "outputs": [
    {
     "name": "stdout",
     "output_type": "stream",
     "text": [
      "Index(['age', 'balance', 'housing', 'day', 'duration', 'campaign', 'pdays',\n",
      "       'previous', 'job_blue-collar', 'job_entrepreneur', 'job_housemaid',\n",
      "       'job_management', 'job_retired', 'job_self-employed', 'job_services',\n",
      "       'job_student', 'job_technician', 'job_unemployed', 'job_unknown',\n",
      "       'marital_married', 'marital_single', 'education_secondary',\n",
      "       'education_tertiary', 'education_unknown', 'default_yes', 'loan_yes',\n",
      "       'contact_telephone', 'contact_unknown', 'month_aug', 'month_dec',\n",
      "       'month_feb', 'month_jan', 'month_jul', 'month_jun', 'month_mar',\n",
      "       'month_may', 'month_nov', 'month_oct', 'month_sep', 'poutcome_other',\n",
      "       'poutcome_success', 'poutcome_unknown', 'deposit_yes'],\n",
      "      dtype='object')\n",
      "Accuracy: 0.79\n",
      "Confusion Matrix:\n",
      "[[934 232]\n",
      " [237 830]]\n",
      "Classification Report:\n",
      "              precision    recall  f1-score   support\n",
      "\n",
      "           0       0.80      0.80      0.80      1166\n",
      "           1       0.78      0.78      0.78      1067\n",
      "\n",
      "    accuracy                           0.79      2233\n",
      "   macro avg       0.79      0.79      0.79      2233\n",
      "weighted avg       0.79      0.79      0.79      2233\n",
      "\n"
     ]
    }
   ],
   "source": [
    "df_encoded = pd.get_dummies(df, drop_first=True)  \n",
    "\n",
    "print(df_encoded.columns)\n",
    "\n",
    "\n",
    "X = df_encoded.drop(columns=['deposit_yes'])\n",
    "y = df_encoded['deposit_yes'] \n",
    "\n",
    "from sklearn.model_selection import train_test_split\n",
    "X_train, X_test, y_train, y_test = train_test_split(X, y, test_size=0.2, random_state=42)\n",
    "\n",
    "\n",
    "from sklearn.tree import DecisionTreeClassifier\n",
    "clf = DecisionTreeClassifier(random_state=42)\n",
    "\n",
    "\n",
    "clf.fit(X_train, y_train)\n",
    "\n",
    "y_pred = clf.predict(X_test)\n",
    "\n",
    "from sklearn.metrics import accuracy_score, confusion_matrix, classification_report\n",
    "accuracy = accuracy_score(y_test, y_pred)\n",
    "print(f'Accuracy: {accuracy:.2f}')\n",
    "\n",
    "cm = confusion_matrix(y_test, y_pred)\n",
    "print('Confusion Matrix:')\n",
    "print(cm)\n",
    "\n",
    "\n",
    "cr = classification_report(y_test, y_pred)\n",
    "print('Classification Report:')\n",
    "print(cr)\n"
   ]
  },
  {
   "cell_type": "code",
   "execution_count": 38,
   "id": "ac11c2dc",
   "metadata": {},
   "outputs": [
    {
     "name": "stdout",
     "output_type": "stream",
     "text": [
      "Accuracy: 0.79\n",
      "Confusion Matrix:\n",
      "[[934 232]\n",
      " [237 830]]\n",
      "Classification Report:\n",
      "              precision    recall  f1-score   support\n",
      "\n",
      "           0       0.80      0.80      0.80      1166\n",
      "           1       0.78      0.78      0.78      1067\n",
      "\n",
      "    accuracy                           0.79      2233\n",
      "   macro avg       0.79      0.79      0.79      2233\n",
      "weighted avg       0.79      0.79      0.79      2233\n",
      "\n"
     ]
    }
   ],
   "source": [
    "from sklearn.tree import DecisionTreeClassifier\n",
    "from sklearn.metrics import accuracy_score, confusion_matrix, classification_report\n",
    "\n",
    "\n",
    "clf = DecisionTreeClassifier(random_state=42)\n",
    "\n",
    "\n",
    "clf.fit(X_train, y_train)\n",
    "\n",
    "y_pred = clf.predict(X_test)\n",
    "\n",
    "\n",
    "accuracy = accuracy_score(y_test, y_pred)\n",
    "print(f'Accuracy: {accuracy:.2f}')\n",
    "\n",
    "cm = confusion_matrix(y_test, y_pred)\n",
    "print('Confusion Matrix:')\n",
    "print(cm)\n",
    "\n",
    "\n",
    "cr = classification_report(y_test, y_pred)\n",
    "print('Classification Report:')\n",
    "print(cr)\n"
   ]
  },
  {
   "cell_type": "code",
   "execution_count": 40,
   "id": "8f0fab85",
   "metadata": {},
   "outputs": [
    {
     "name": "stdout",
     "output_type": "stream",
     "text": [
      "Best Parameters: {'criterion': 'gini', 'max_depth': 10, 'min_samples_leaf': 10, 'min_samples_split': 2}\n",
      "Accuracy of tuned model: 0.82\n"
     ]
    }
   ],
   "source": [
    "from sklearn.model_selection import GridSearchC\n",
    "param_grid = {\n",
    "    'max_depth': [3, 5, 10, 15, None],\n",
    "    'min_samples_split': [2, 10, 20],\n",
    "    'min_samples_leaf': [1, 5, 10],\n",
    "    'criterion': ['gini', 'entropy']\n",
    "}\n",
    "\n",
    "\n",
    "grid_search = GridSearchCV(estimator=clf, param_grid=param_grid, cv=5, n_jobs=-1, scoring='accuracy')\n",
    "\n",
    "\n",
    "grid_search.fit(X_train, y_train)\n",
    "\n",
    "print(f\"Best Parameters: {grid_search.best_params_}\")\n",
    "\n",
    "\n",
    "best_clf = grid_search.best_estimator_\n",
    "\n",
    "\n",
    "y_pred = best_clf.predict(X_test)\n",
    "print(f\"Accuracy of tuned model: {accuracy_score(y_test, y_pred):.2f}\")\n"
   ]
  },
  {
   "cell_type": "code",
   "execution_count": 42,
   "id": "60bbaaae",
   "metadata": {},
   "outputs": [
    {
     "name": "stdout",
     "output_type": "stream",
     "text": [
      "Best Parameters (RandomizedSearchCV): {'min_samples_split': 30, 'min_samples_leaf': 10, 'max_depth': 15, 'criterion': 'gini'}\n",
      "Accuracy of tuned model (RandomizedSearchCV): 0.83\n"
     ]
    }
   ],
   "source": [
    "from sklearn.model_selection import RandomizedSearchCV\n",
    "import numpy as np\n",
    "\n",
    "\n",
    "param_dist = {\n",
    "    'max_depth': [3, 5, 10, 15, None],\n",
    "    'min_samples_split': [2, 10, 20, 30],\n",
    "    'min_samples_leaf': [1, 5, 10],\n",
    "    'criterion': ['gini', 'entropy']\n",
    "}\n",
    "\n",
    "\n",
    "random_search = RandomizedSearchCV(estimator=clf, param_distributions=param_dist, n_iter=10, cv=5, n_jobs=-1, random_state=42)\n",
    "\n",
    "\n",
    "random_search.fit(X_train, y_train)\n",
    "\n",
    "print(f\"Best Parameters (RandomizedSearchCV): {random_search.best_params_}\")\n",
    "best_clf_random = random_search.best_estimator_\n",
    "\n",
    "y_pred_random = best_clf_random.predict(X_test)\n",
    "print(f\"Accuracy of tuned model (RandomizedSearchCV): {accuracy_score(y_test, y_pred_random):.2f}\")\n"
   ]
  },
  {
   "cell_type": "code",
   "execution_count": 43,
   "id": "74a9e860",
   "metadata": {},
   "outputs": [
    {
     "name": "stdout",
     "output_type": "stream",
     "text": [
      "Random Forest Accuracy: 0.84\n",
      "Random Forest Classification Report:\n",
      "              precision    recall  f1-score   support\n",
      "\n",
      "           0       0.87      0.81      0.84      1166\n",
      "           1       0.81      0.87      0.84      1067\n",
      "\n",
      "    accuracy                           0.84      2233\n",
      "   macro avg       0.84      0.84      0.84      2233\n",
      "weighted avg       0.84      0.84      0.84      2233\n",
      "\n"
     ]
    }
   ],
   "source": [
    "from sklearn.ensemble import RandomForestClassifier\n",
    "\n",
    "rf_clf = RandomForestClassifier(random_state=42)\n",
    "\n",
    "rf_clf.fit(X_train, y_train)\n",
    "y_pred_rf = rf_clf.predict(X_test)\n",
    "\n",
    "\n",
    "print(f\"Random Forest Accuracy: {accuracy_score(y_test, y_pred_rf):.2f}\")\n",
    "print(f\"Random Forest Classification Report:\\n{classification_report(y_test, y_pred_rf)}\")\n"
   ]
  },
  {
   "cell_type": "code",
   "execution_count": 44,
   "id": "00119a6f",
   "metadata": {},
   "outputs": [
    {
     "name": "stdout",
     "output_type": "stream",
     "text": [
      "Logistic Regression Accuracy: 0.81\n",
      "Logistic Regression Classification Report:\n",
      "              precision    recall  f1-score   support\n",
      "\n",
      "           0       0.81      0.83      0.82      1166\n",
      "           1       0.81      0.78      0.80      1067\n",
      "\n",
      "    accuracy                           0.81      2233\n",
      "   macro avg       0.81      0.81      0.81      2233\n",
      "weighted avg       0.81      0.81      0.81      2233\n",
      "\n"
     ]
    }
   ],
   "source": [
    "from sklearn.linear_model import LogisticRegression\n",
    "\n",
    "\n",
    "lr_clf = LogisticRegression(random_state=42)\n",
    "lr_clf.fit(X_train, y_train)\n",
    "y_pred_lr = lr_clf.predict(X_test)\n",
    "\n",
    "print(f\"Logistic Regression Accuracy: {accuracy_score(y_test, y_pred_lr):.2f}\")\n",
    "print(f\"Logistic Regression Classification Report:\\n{classification_report(y_test, y_pred_lr)}\")\n"
   ]
  },
  {
   "cell_type": "code",
   "execution_count": 45,
   "id": "34bafd85",
   "metadata": {},
   "outputs": [
    {
     "name": "stdout",
     "output_type": "stream",
     "text": [
      "SVM Accuracy: 0.84\n",
      "SVM Classification Report:\n",
      "              precision    recall  f1-score   support\n",
      "\n",
      "           0       0.86      0.82      0.84      1166\n",
      "           1       0.82      0.86      0.84      1067\n",
      "\n",
      "    accuracy                           0.84      2233\n",
      "   macro avg       0.84      0.84      0.84      2233\n",
      "weighted avg       0.84      0.84      0.84      2233\n",
      "\n"
     ]
    }
   ],
   "source": [
    "from sklearn.svm import SVC\n",
    "\n",
    "\n",
    "svm_clf = SVC(random_state=42)\n",
    "svm_clf.fit(X_train, y_train)\n",
    "\n",
    "\n",
    "y_pred_svm = svm_clf.predict(X_test)\n",
    "\n",
    "print(f\"SVM Accuracy: {accuracy_score(y_test, y_pred_svm):.2f}\")\n",
    "print(f\"SVM Classification Report:\\n{classification_report(y_test, y_pred_svm)}\")\n"
   ]
  },
  {
   "cell_type": "code",
   "execution_count": 46,
   "id": "2b92a5b8",
   "metadata": {},
   "outputs": [
    {
     "name": "stdout",
     "output_type": "stream",
     "text": [
      "Decision Tree Accuracy: 0.82\n",
      "Random Forest Accuracy: 0.84\n",
      "SVM Accuracy: 0.84\n",
      "Logistic Regression Accuracy: 0.81\n"
     ]
    }
   ],
   "source": [
    "\n",
    "print(\"Decision Tree Accuracy: {:.2f}\".format(accuracy_score(y_test, y_pred)))\n",
    "print(\"Random Forest Accuracy: {:.2f}\".format(accuracy_score(y_test, y_pred_rf)))\n",
    "print(\"SVM Accuracy: {:.2f}\".format(accuracy_score(y_test, y_pred_svm)))\n",
    "print(\"Logistic Regression Accuracy: {:.2f}\".format(accuracy_score(y_test, y_pred_lr)))\n"
   ]
  },
  {
   "cell_type": "code",
   "execution_count": null,
   "id": "53adc8c3",
   "metadata": {},
   "outputs": [],
   "source": []
  }
 ],
 "metadata": {
  "kernelspec": {
   "display_name": "Python 3 (ipykernel)",
   "language": "python",
   "name": "python3"
  },
  "language_info": {
   "codemirror_mode": {
    "name": "ipython",
    "version": 3
   },
   "file_extension": ".py",
   "mimetype": "text/x-python",
   "name": "python",
   "nbconvert_exporter": "python",
   "pygments_lexer": "ipython3",
   "version": "3.11.4"
  }
 },
 "nbformat": 4,
 "nbformat_minor": 5
}
